{
  "nbformat": 4,
  "nbformat_minor": 0,
  "metadata": {
    "colab": {
      "provenance": [],
      "authorship_tag": "ABX9TyPTcMyKU2RZhMzI5tal9ed1",
      "include_colab_link": true
    },
    "kernelspec": {
      "name": "python3",
      "display_name": "Python 3"
    },
    "language_info": {
      "name": "python"
    }
  },
  "cells": [
    {
      "cell_type": "markdown",
      "metadata": {
        "id": "view-in-github",
        "colab_type": "text"
      },
      "source": [
        "<a href=\"https://colab.research.google.com/github/cartmarsh/MachineLearning1/blob/main/breast_cancer_kaggle.ipynb\" target=\"_parent\"><img src=\"https://colab.research.google.com/assets/colab-badge.svg\" alt=\"Open In Colab\"/></a>"
      ]
    },
    {
      "cell_type": "markdown",
      "source": [
        "# Kaggle breast cancer competition\n",
        "\n",
        "1. Download a part of the data\n",
        "2. analyze it\n",
        "3. structure it\n",
        "4. create basic model\n",
        "5. make prediction on submission data\n",
        "6. submit first result on kaggle\n",
        "\n",
        "7. Fine-Tuning (Todo: outline process, collect ideas to optimize)\n",
        "  ..\n",
        "  ..\n",
        "  .."
      ],
      "metadata": {
        "id": "YwheCjGYmgSp"
      }
    },
    {
      "cell_type": "markdown",
      "source": [
        "## Download part of the data"
      ],
      "metadata": {
        "id": "LKYxPXBYnqa5"
      }
    },
    {
      "cell_type": "code",
      "execution_count": 1,
      "metadata": {
        "id": "4FNjWXibmZ7s"
      },
      "outputs": [],
      "source": [
        "import os"
      ]
    },
    {
      "cell_type": "code",
      "source": [
        "os.environ[\"KAGGLE_CONFIG_DIR\"] = \"/content\""
      ],
      "metadata": {
        "id": "6z6YaUHRnbkQ"
      },
      "execution_count": 4,
      "outputs": []
    },
    {
      "cell_type": "code",
      "source": [
        "%matplotlib inline\n",
        "#magic command to show the matplotlib plots in the output cell of the notebook\n",
        "\n",
        "#basic libraries\n",
        "import pandas as pd\n",
        "import numpy as np\n",
        "import os\n",
        "\n",
        "#visualisation libraries\n",
        "import seaborn as sns\n",
        "import matplotlib.pyplot as plt\n",
        "from pandas_profiling import ProfileReport\n"
      ],
      "metadata": {
        "id": "RlvnjM7SnpyB"
      },
      "execution_count": 5,
      "outputs": []
    },
    {
      "cell_type": "code",
      "source": [
        "!pip install kaggle --quiet"
      ],
      "metadata": {
        "id": "CPbkofhrqvsI"
      },
      "execution_count": 6,
      "outputs": []
    },
    {
      "cell_type": "code",
      "source": [
        "!chmod 600 /content/kaggle.json"
      ],
      "metadata": {
        "id": "DP8V92zPrrev"
      },
      "execution_count": 9,
      "outputs": []
    },
    {
      "cell_type": "code",
      "source": [
        "!kaggle competitions files rsna-breast-cancer-detection "
      ],
      "metadata": {
        "colab": {
          "base_uri": "https://localhost:8080/"
        },
        "id": "y2tl7FgtvVow",
        "outputId": "fcf3b29d-cd6a-4808-fbb2-a428ec83e582"
      },
      "execution_count": 28,
      "outputs": [
        {
          "output_type": "stream",
          "name": "stdout",
          "text": [
            "name                               size  creationDate         \n",
            "---------------------------------  ----  -------------------  \n",
            "train_images/10038/1350492010.dcm   3MB  2022-11-23 04:56:00  \n",
            "train_images/10038/850559196.dcm    3MB  2022-11-23 04:56:00  \n",
            "train_images/10038/1967300488.dcm   3MB  2022-11-23 04:56:00  \n",
            "train_images/10038/2142944869.dcm   3MB  2022-11-23 04:56:00  \n",
            "train_images/10051/1238319934.dcm   3MB  2022-11-23 04:56:00  \n",
            "train_images/10051/938549206.dcm    5MB  2022-11-23 04:56:00  \n",
            "train_images/10051/833024366.dcm    5MB  2022-11-23 04:56:00  \n",
            "train_images/10051/2046475482.dcm   3MB  2022-11-23 04:56:00  \n",
            "train_images/10126/677689694.dcm    3MB  2022-11-23 04:56:00  \n",
            "train_images/10126/808365199.dcm    3MB  2022-11-23 04:56:00  \n",
            "train_images/10126/23590109.dcm     5MB  2022-11-23 04:56:00  \n",
            "train_images/10126/1987272730.dcm   4MB  2022-11-23 04:56:00  \n",
            "train_images/10126/1035012441.dcm   5MB  2022-11-23 04:56:00  \n",
            "train_images/10126/1495487293.dcm   3MB  2022-11-23 04:56:00  \n",
            "train_images/10102/1951607544.dcm  11MB  2022-11-23 04:56:00  \n",
            "train_images/10102/618254763.dcm   13MB  2022-11-23 04:56:00  \n",
            "train_images/10102/453020471.dcm   11MB  2022-11-23 04:56:00  \n",
            "train_images/10102/1241778584.dcm  10MB  2022-11-23 04:56:00  \n",
            "train_images/10102/1245250349.dcm  12MB  2022-11-23 04:56:00  \n",
            "train_images/10102/1480506800.dcm  12MB  2022-11-23 04:56:00  \n",
            "train_images/10102/1181635673.dcm  11MB  2022-11-23 04:56:00  \n",
            "train_images/10102/1304802631.dcm  11MB  2022-11-23 04:56:00  \n",
            "train_images/10025/1365269360.dcm   6MB  2022-11-23 04:56:00  \n",
            "train_images/10025/893612858.dcm    6MB  2022-11-23 04:56:00  \n",
            "train_images/10025/288394860.dcm    4MB  2022-11-23 04:56:00  \n",
            "train_images/10025/562340703.dcm    4MB  2022-11-23 04:56:00  \n",
            "train_images/10106/2057295788.dcm   3MB  2022-11-23 04:56:00  \n",
            "train_images/10106/190315990.dcm    3MB  2022-11-23 04:56:00  \n",
            "train_images/10106/929085221.dcm    2MB  2022-11-23 04:56:00  \n",
            "train_images/10106/238675415.dcm    2MB  2022-11-23 04:56:00  \n",
            "train_images/10050/1428987847.dcm   7MB  2022-11-23 04:56:00  \n",
            "train_images/10050/588678397.dcm    7MB  2022-11-23 04:56:00  \n",
            "train_images/10050/1749389520.dcm   5MB  2022-11-23 04:56:00  \n",
            "train_images/10050/1614607569.dcm   5MB  2022-11-23 04:56:00  \n",
            "train_images/10119/494229141.dcm    4MB  2022-11-23 04:56:00  \n",
            "train_images/10119/50833170.dcm     4MB  2022-11-23 04:56:00  \n",
            "train_images/10119/1854075671.dcm   4MB  2022-11-23 04:56:00  \n",
            "train_images/10119/394215927.dcm    4MB  2022-11-23 04:56:00  \n",
            "train_images/10116/527043166.dcm    6MB  2022-11-23 04:56:00  \n",
            "train_images/10116/1470873094.dcm   8MB  2022-11-23 04:56:00  \n",
            "train_images/10116/539757861.dcm    7MB  2022-11-23 04:56:00  \n",
            "train_images/10116/472095321.dcm    5MB  2022-11-23 04:56:00  \n",
            "train_images/10095/25264463.dcm     6MB  2022-11-23 04:56:00  \n",
            "train_images/10095/1854592291.dcm   7MB  2022-11-23 04:56:00  \n",
            "train_images/10095/1450760951.dcm   7MB  2022-11-23 04:56:00  \n",
            "train_images/10095/1276618392.dcm   7MB  2022-11-23 04:56:00  \n",
            "train_images/10097/929754876.dcm    8MB  2022-11-23 04:56:00  \n",
            "train_images/10097/664674273.dcm    9MB  2022-11-23 04:56:00  \n",
            "train_images/10097/1007799858.dcm   8MB  2022-11-23 04:56:00  \n",
            "train_images/10097/268368896.dcm    8MB  2022-11-23 04:56:00  \n",
            "train_images/10097/166011602.dcm    9MB  2022-11-23 04:56:00  \n",
            "train_images/10097/1957744616.dcm   7MB  2022-11-23 04:56:00  \n",
            "train_images/10124/1891054212.dcm   8MB  2022-11-23 04:56:00  \n",
            "train_images/10124/473162373.dcm    9MB  2022-11-23 04:56:00  \n",
            "train_images/10124/2029770528.dcm   8MB  2022-11-23 04:56:00  \n",
            "train_images/10124/1919498169.dcm   8MB  2022-11-23 04:56:00  \n",
            "train_images/10130/388811999.dcm    6MB  2022-11-23 04:56:00  \n",
            "train_images/10130/1165309236.dcm   8MB  2022-11-23 04:56:00  \n",
            "train_images/10130/1360338805.dcm   7MB  2022-11-23 04:56:00  \n",
            "train_images/10130/1013166704.dcm   9MB  2022-11-23 04:56:00  \n",
            "train_images/10130/1672636630.dcm   8MB  2022-11-23 04:56:00  \n",
            "train_images/10130/2110820077.dcm  11MB  2022-11-23 04:56:00  \n",
            "train_images/10130/613462606.dcm    6MB  2022-11-23 04:56:00  \n",
            "train_images/10048/1842203124.dcm   5MB  2022-11-23 04:56:00  \n",
            "train_images/10048/964141995.dcm    6MB  2022-11-23 04:56:00  \n",
            "train_images/10048/1234933874.dcm   4MB  2022-11-23 04:56:00  \n",
            "train_images/10048/1577142909.dcm   6MB  2022-11-23 04:56:00  \n",
            "train_images/10011/1031443799.dcm   2MB  2022-11-23 04:56:00  \n",
            "train_images/10011/270344397.dcm    2MB  2022-11-23 04:56:00  \n",
            "train_images/10011/220375232.dcm    2MB  2022-11-23 04:56:00  \n",
            "train_images/10011/541722628.dcm    2MB  2022-11-23 04:56:00  \n",
            "train_images/10006/1864590858.dcm   4MB  2022-11-23 04:56:00  \n",
            "train_images/10006/1459541791.dcm   4MB  2022-11-23 04:56:00  \n",
            "train_images/10006/1874946579.dcm   2MB  2022-11-23 04:56:00  \n",
            "train_images/10006/462822612.dcm    3MB  2022-11-23 04:56:00  \n",
            "train_images/10086/51088550.dcm     1MB  2022-11-23 04:56:00  \n",
            "train_images/10086/2029358943.dcm   1MB  2022-11-23 04:56:00  \n",
            "train_images/10086/1973073874.dcm   3MB  2022-11-23 04:56:00  \n",
            "train_images/10086/1479874325.dcm   3MB  2022-11-23 04:56:00  \n",
            "train_images/10049/94335194.dcm     6MB  2022-11-23 04:56:00  \n",
            "train_images/10049/1351270472.dcm   6MB  2022-11-23 04:56:00  \n",
            "train_images/10049/1207499426.dcm   6MB  2022-11-23 04:56:00  \n",
            "train_images/10049/1464813991.dcm   6MB  2022-11-23 04:56:00  \n",
            "train_images/10049/906829939.dcm    6MB  2022-11-23 04:56:00  \n",
            "train_images/10049/349510516.dcm    5MB  2022-11-23 04:56:00  \n",
            "train_images/10042/495770405.dcm    4MB  2022-11-23 04:56:00  \n",
            "train_images/10042/1648588715.dcm   4MB  2022-11-23 04:56:00  \n",
            "train_images/10042/102733848.dcm    4MB  2022-11-23 04:56:00  \n",
            "train_images/10042/294481519.dcm    3MB  2022-11-23 04:56:00  \n",
            "train_images/10042/202939811.dcm    3MB  2022-11-23 04:56:00  \n",
            "train_images/10122/722196386.dcm    5MB  2022-11-23 04:56:00  \n",
            "train_images/10122/828772252.dcm    7MB  2022-11-23 04:56:00  \n",
            "train_images/10122/612913905.dcm    5MB  2022-11-23 04:56:00  \n",
            "train_images/10122/1732550501.dcm   6MB  2022-11-23 04:56:00  \n",
            "test_images/10008/68070693.dcm      3MB  2022-11-23 04:56:00  \n",
            "test_images/10008/736471439.dcm     3MB  2022-11-23 04:56:00  \n",
            "test_images/10008/361203119.dcm     3MB  2022-11-23 04:56:00  \n",
            "test_images/10008/1591370361.dcm    3MB  2022-11-23 04:56:00  \n",
            "train.csv                           2MB  2022-11-23 04:56:00  \n",
            "sample_submission.csv               75B  2022-11-23 04:56:00  \n",
            "test.csv                           239B  2022-11-23 04:56:00  \n"
          ]
        }
      ]
    },
    {
      "cell_type": "code",
      "source": [
        "!kaggle competitions download rsna-breast-cancer-detection -f \"test_images/10008/68070693.dcm\" "
      ],
      "metadata": {
        "colab": {
          "base_uri": "https://localhost:8080/"
        },
        "id": "N2iLczMOnpve",
        "outputId": "3c4d9744-dc17-4786-86b0-9c05d24c7797"
      },
      "execution_count": 26,
      "outputs": [
        {
          "output_type": "stream",
          "name": "stdout",
          "text": [
            "Downloading 68070693.dcm.zip to /content\n",
            "\r  0% 0.00/3.42M [00:00<?, ?B/s]\n",
            "\r100% 3.42M/3.42M [00:00<00:00, 147MB/s]\n"
          ]
        }
      ]
    },
    {
      "cell_type": "code",
      "source": [
        "!kaggle -h\n"
      ],
      "metadata": {
        "colab": {
          "base_uri": "https://localhost:8080/"
        },
        "id": "TK8L2scAnpst",
        "outputId": "616c3ea3-e3be-49d4-ed85-2d18290f9f5d"
      },
      "execution_count": 15,
      "outputs": [
        {
          "output_type": "stream",
          "name": "stdout",
          "text": [
            "usage: kaggle\n",
            "       [-h]\n",
            "       [-v]\n",
            "       {competitions,c,datasets,d,kernels,k,config}\n",
            "       ...\n",
            "\n",
            "optional arguments:\n",
            "  -h, --help\n",
            "    show this help message and exit\n",
            "  -v, --version\n",
            "    show program's version number and exit\n",
            "\n",
            "commands:\n",
            "  {competitions,c,datasets,d,kernels,k,config}\n",
            "    Use one of:\n",
            "    competitions {list, files, download, submit, submissions, leaderboard}\n",
            "    datasets {list, files, download, create, version, init, metadata, status}\n",
            "    config {view, set, unset}\n",
            "    competitions (c)\n",
            "    Commands related to Kaggle competitions\n",
            "    datasets (d)\n",
            "    Commands related to Kaggle datasets\n",
            "    kernels (k)\n",
            "    Commands related to Kaggle kernels\n",
            "    config\n",
            "    Configuration settings\n"
          ]
        }
      ]
    },
    {
      "cell_type": "code",
      "source": [
        "!unzip \"/content/68070693.dcm.zip\""
      ],
      "metadata": {
        "colab": {
          "base_uri": "https://localhost:8080/"
        },
        "id": "I89Ow_sGwNk2",
        "outputId": "01d922c0-9160-4845-91c2-76b71e14e0a4"
      },
      "execution_count": 32,
      "outputs": [
        {
          "output_type": "stream",
          "name": "stdout",
          "text": [
            "Archive:  /content/68070693.dcm.zip\n",
            "  inflating: 68070693.dcm            \n"
          ]
        }
      ]
    },
    {
      "cell_type": "code",
      "source": [
        "!pip install pydicom --quiet"
      ],
      "metadata": {
        "colab": {
          "base_uri": "https://localhost:8080/"
        },
        "id": "s0uJ7TqQwUct",
        "outputId": "fe4b24f3-e766-4d84-d514-425644ee9a72"
      },
      "execution_count": 30,
      "outputs": [
        {
          "output_type": "stream",
          "name": "stdout",
          "text": [
            "Looking in indexes: https://pypi.org/simple, https://us-python.pkg.dev/colab-wheels/public/simple/\n",
            "Collecting pydicom\n",
            "  Downloading pydicom-2.3.1-py3-none-any.whl (2.0 MB)\n",
            "\u001b[K     |████████████████████████████████| 2.0 MB 7.1 MB/s \n",
            "\u001b[?25hInstalling collected packages: pydicom\n",
            "Successfully installed pydicom-2.3.1\n"
          ]
        }
      ]
    },
    {
      "cell_type": "code",
      "source": [
        "import pydicom as dicom\n",
        "import matplotlib.pylab as plt\n",
        "\n",
        "# specify your image path\n",
        "image_path = '/content/68070693.dcm'\n",
        "ds = dicom.dcmread(image_path)\n",
        "\n",
        "plt.imshow(ds.pixel_array)"
      ],
      "metadata": {
        "colab": {
          "base_uri": "https://localhost:8080/"
        },
        "id": "WQTNCZhunpqC",
        "outputId": "dfb6d894-bf74-422c-d2a4-4b977a8baa75"
      },
      "execution_count": 34,
      "outputs": [
        {
          "output_type": "execute_result",
          "data": {
            "text/plain": [
              "<matplotlib.image.AxesImage at 0x7fe430b963d0>"
            ]
          },
          "metadata": {},
          "execution_count": 34
        }
      ]
    },
    {
      "cell_type": "code",
      "source": [],
      "metadata": {
        "id": "FtcJRhs0npnG"
      },
      "execution_count": null,
      "outputs": []
    },
    {
      "cell_type": "code",
      "source": [],
      "metadata": {
        "id": "KFNceR3onpkh"
      },
      "execution_count": null,
      "outputs": []
    }
  ]
}